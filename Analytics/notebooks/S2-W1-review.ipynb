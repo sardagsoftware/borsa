{
  "cells": [
    {
      "cell_type": "markdown",
      "metadata": {},
      "source": [
        "# Season 2 Week 1: Analytics Review\n",
        "\n",
        "**Date Range**: January 15-21, 2026  \n",
        "**Status**: LIVE  \n",
        "**White-Hat**: ✅ KVKK/GDPR/PDPL Compliant\n",
        "\n",
        "---\n",
        "\n",
        "## Executive Summary\n",
        "\n",
        "Week 1 performance against targets:\n",
        "- **DAU**: Target ≥2,600\n",
        "- **Retention D1**: Target ≥42%\n",
        "- **Crash-Free Rate**: Target ≥98.5%\n",
        "- **Storm Puzzle Completion**: Target ≥70%\n",
        "- **Inflation Index**: Target <1.08\n",
        "- **Earn/Spend Ratio**: Target 0.9-1.1\n"
      ]
    },
    {
      "cell_type": "code",
      "execution_count": null,
      "metadata": {},
      "outputs": [],
      "source": [
        "import json\n",
        "import pandas as pd\n",
        "import matplotlib.pyplot as plt\n",
        "import seaborn as sns\n",
        "from datetime import datetime, timedelta\n",
        "\n",
        "# Styling\n",
        "sns.set_style(\"whitegrid\")\n",
        "plt.rcParams['figure.figsize'] = (14, 6)\n",
        "\n",
        "# Load telemetry data\n",
        "with open('../telemetry/kpis-s2-w1-latest.json', 'r') as f:\n",
        "    kpis = json.load(f)\n",
        "\n",
        "print(\"✅ Data loaded successfully\")\n",
        "print(f\"Timestamp: {kpis.get('timestamp', 'N/A')}\")\n",
        "print(f\"Season: {kpis.get('season', 'N/A')}\")"
      ]
    },
    {
      "cell_type": "markdown",
      "metadata": {},
      "source": [
        "## 1. Technical Health Metrics"
      ]
    },
    {
      "cell_type": "code",
      "execution_count": null,
      "metadata": {},
      "outputs": [],
      "source": [
        "# Technical Health\n",
        "tech_health = pd.DataFrame(kpis.get('technical_health', {}))\n",
        "\n",
        "fig, axes = plt.subplots(2, 2, figsize=(14, 10))\n",
        "\n",
        "# Crash-Free Rate\n",
        "ax1 = axes[0, 0]\n",
        "ax1.axhline(y=98.5, color='green', linestyle='--', label='Target (98.5%)')\n",
        "ax1.axhline(y=98.0, color='red', linestyle='--', label='Critical (98.0%)')\n",
        "ax1.plot(tech_health.index, tech_health['crash_free_rate'], marker='o', linewidth=2)\n",
        "ax1.set_title('Crash-Free Rate (%)', fontsize=14, fontweight='bold')\n",
        "ax1.set_ylabel('Percentage')\n",
        "ax1.legend()\n",
        "ax1.grid(True, alpha=0.3)\n",
        "\n",
        "# P95 GPU Frame Time\n",
        "ax2 = axes[0, 1]\n",
        "ax2.axhline(y=16.6, color='green', linestyle='--', label='Target (16.6ms)')\n",
        "ax2.axhline(y=20.0, color='red', linestyle='--', label='Critical (20ms)')\n",
        "ax2.plot(tech_health.index, tech_health['p95_gpu_frame_time'], marker='o', linewidth=2, color='orange')\n",
        "ax2.set_title('P95 GPU Frame Time (ms)', fontsize=14, fontweight='bold')\n",
        "ax2.set_ylabel('Milliseconds')\n",
        "ax2.legend()\n",
        "ax2.grid(True, alpha=0.3)\n",
        "\n",
        "# Hitch Rate\n",
        "ax3 = axes[1, 0]\n",
        "ax3.axhline(y=2.0, color='green', linestyle='--', label='Target (2%)')\n",
        "ax3.axhline(y=5.0, color='red', linestyle='--', label='Critical (5%)')\n",
        "ax3.plot(tech_health.index, tech_health['hitch_rate'], marker='o', linewidth=2, color='purple')\n",
        "ax3.set_title('Hitch Rate (%)', fontsize=14, fontweight='bold')\n",
        "ax3.set_ylabel('Percentage')\n",
        "ax3.legend()\n",
        "ax3.grid(True, alpha=0.3)\n",
        "\n",
        "# P95 Server Latency\n",
        "ax4 = axes[1, 1]\n",
        "ax4.axhline(y=150, color='green', linestyle='--', label='Target (150ms)')\n",
        "ax4.axhline(y=200, color='red', linestyle='--', label='Critical (200ms)')\n",
        "ax4.plot(tech_health.index, tech_health['p95_server_latency'], marker='o', linewidth=2, color='red')\n",
        "ax4.set_title('P95 Server Latency (ms)', fontsize=14, fontweight='bold')\n",
        "ax4.set_ylabel('Milliseconds')\n",
        "ax4.legend()\n",
        "ax4.grid(True, alpha=0.3)\n",
        "\n",
        "plt.tight_layout()\n",
        "plt.show()\n",
        "\n",
        "print(\"\\n📊 Technical Health Summary:\")\n",
        "print(f\"  - Crash-Free Rate: {tech_health['crash_free_rate'].mean():.2f}%\")\n",
        "print(f\"  - P95 GPU Frame Time: {tech_health['p95_gpu_frame_time'].mean():.2f}ms\")\n",
        "print(f\"  - Hitch Rate: {tech_health['hitch_rate'].mean():.2f}%\")\n",
        "print(f\"  - P95 Server Latency: {tech_health['p95_server_latency'].mean():.0f}ms\")"
      ]
    },
    {
      "cell_type": "markdown",
      "metadata": {},
      "source": [
        "## 2. Product Engagement"
      ]
    },
    {
      "cell_type": "code",
      "execution_count": null,
      "metadata": {},
      "outputs": [],
      "source": [
        "# Product Engagement\n",
        "engagement = pd.DataFrame(kpis.get('product_engagement', {}))\n",
        "\n",
        "fig, axes = plt.subplots(1, 2, figsize=(14, 5))\n",
        "\n",
        "# DAU Trend\n",
        "ax1 = axes[0]\n",
        "ax1.axhline(y=2600, color='green', linestyle='--', label='Target (2,600)')\n",
        "ax1.plot(engagement.index, engagement['dau'], marker='o', linewidth=2, color='blue')\n",
        "ax1.set_title('Daily Active Users (DAU)', fontsize=14, fontweight='bold')\n",
        "ax1.set_ylabel('Users')\n",
        "ax1.legend()\n",
        "ax1.grid(True, alpha=0.3)\n",
        "\n",
        "# Retention Trend\n",
        "ax2 = axes[1]\n",
        "ax2.axhline(y=42, color='green', linestyle='--', label='D1 Target (42%)')\n",
        "ax2.axhline(y=22, color='orange', linestyle='--', label='D7 Target (22%)')\n",
        "ax2.plot(engagement.index, engagement['retention_d1'], marker='o', linewidth=2, label='D1 Retention')\n",
        "ax2.plot(engagement.index, engagement['retention_d7'], marker='s', linewidth=2, label='D7 Retention')\n",
        "ax2.set_title('Retention Rates', fontsize=14, fontweight='bold')\n",
        "ax2.set_ylabel('Percentage')\n",
        "ax2.legend()\n",
        "ax2.grid(True, alpha=0.3)\n",
        "\n",
        "plt.tight_layout()\n",
        "plt.show()\n",
        "\n",
        "print(\"\\n📊 Engagement Summary:\")\n",
        "print(f\"  - Avg DAU: {engagement['dau'].mean():.0f}\")\n",
        "print(f\"  - Avg Retention D1: {engagement['retention_d1'].mean():.2f}%\")\n",
        "print(f\"  - Avg Retention D7: {engagement['retention_d7'].mean():.2f}%\")\n",
        "print(f\"  - NPS: {engagement['nps'].mean():.0f}\")"
      ]
    },
    {
      "cell_type": "markdown",
      "metadata": {},
      "source": [
        "## 3. Economy Health"
      ]
    },
    {
      "cell_type": "code",
      "execution_count": null,
      "metadata": {},
      "outputs": [],
      "source": [
        "# Economy Health\n",
        "economy = pd.DataFrame(kpis.get('economy_health', {}))\n",
        "\n",
        "fig, axes = plt.subplots(1, 2, figsize=(14, 5))\n",
        "\n",
        "# Earn/Spend Ratio\n",
        "ax1 = axes[0]\n",
        "ax1.axhline(y=1.1, color='red', linestyle='--', label='Upper Limit (1.1)')\n",
        "ax1.axhline(y=0.9, color='red', linestyle='--', label='Lower Limit (0.9)')\n",
        "ax1.axhline(y=1.0, color='green', linestyle='--', label='Target (1.0)')\n",
        "ax1.plot(economy.index, economy['earn_spend_ratio'], marker='o', linewidth=2, color='purple')\n",
        "ax1.set_title('Earn/Spend Ratio', fontsize=14, fontweight='bold')\n",
        "ax1.set_ylabel('Ratio')\n",
        "ax1.legend()\n",
        "ax1.grid(True, alpha=0.3)\n",
        "\n",
        "# Inflation Index\n",
        "ax2 = axes[1]\n",
        "ax2.axhline(y=1.08, color='orange', linestyle='--', label='Warning (1.08)')\n",
        "ax2.axhline(y=1.15, color='red', linestyle='--', label='Critical (1.15)')\n",
        "ax2.axhline(y=1.0, color='green', linestyle='--', label='Baseline (1.0)')\n",
        "ax2.plot(economy.index, economy['inflation_index'], marker='o', linewidth=2, color='red')\n",
        "ax2.set_title('Inflation Index', fontsize=14, fontweight='bold')\n",
        "ax2.set_ylabel('Index')\n",
        "ax2.legend()\n",
        "ax2.grid(True, alpha=0.3)\n",
        "\n",
        "plt.tight_layout()\n",
        "plt.show()\n",
        "\n",
        "print(\"\\n📊 Economy Summary:\")\n",
        "print(f\"  - Avg Earn/Spend Ratio: {economy['earn_spend_ratio'].mean():.3f}\")\n",
        "print(f\"  - Avg Inflation Index: {economy['inflation_index'].mean():.3f}\")\n",
        "print(f\"  - Vendor Usage: {economy['vendor_usage'].mean():.1f}%\")\n",
        "print(f\"  - Fraud Indicators: {economy['fraud_indicators'].mean():.0f} per day\")"
      ]
    },
    {
      "cell_type": "markdown",
      "metadata": {},
      "source": [
        "## 4. Content Engagement"
      ]
    },
    {
      "cell_type": "code",
      "execution_count": null,
      "metadata": {},
      "outputs": [],
      "source": [
        "# Content Engagement\n",
        "content = pd.DataFrame(kpis.get('content_engagement', {}))\n",
        "\n",
        "fig, axes = plt.subplots(1, 2, figsize=(14, 5))\n",
        "\n",
        "# Storm Puzzle Completion\n",
        "ax1 = axes[0]\n",
        "ax1.axhline(y=70, color='green', linestyle='--', label='Target (70%)')\n",
        "ax1.plot(content.index, content['puzzle_completion_rate'], marker='o', linewidth=2, color='blue')\n",
        "ax1.set_title('Storm Puzzle Completion Rate', fontsize=14, fontweight='bold')\n",
        "ax1.set_ylabel('Percentage')\n",
        "ax1.legend()\n",
        "ax1.grid(True, alpha=0.3)\n",
        "\n",
        "# Co-op Adoption\n",
        "ax2 = axes[1]\n",
        "ax2.axhline(y=25, color='orange', linestyle='--', label='Baseline (25%)')\n",
        "ax2.axhline(y=30, color='green', linestyle='--', label='Target (30%)')\n",
        "ax2.plot(content.index, content['coop_adoption_rate'], marker='o', linewidth=2, color='green')\n",
        "ax2.set_title('Co-op Adoption Rate', fontsize=14, fontweight='bold')\n",
        "ax2.set_ylabel('Percentage')\n",
        "ax2.legend()\n",
        "ax2.grid(True, alpha=0.3)\n",
        "\n",
        "plt.tight_layout()\n",
        "plt.show()\n",
        "\n",
        "print(\"\\n📊 Content Summary:\")\n",
        "print(f\"  - Storm Puzzle Completion: {content['puzzle_completion_rate'].mean():.1f}%\")\n",
        "print(f\"  - Co-op Adoption: {content['coop_adoption_rate'].mean():.1f}%\")\n",
        "print(f\"  - Boss Success Rate: N/A (starts Week 2)\")"
      ]
    },
    {
      "cell_type": "markdown",
      "metadata": {},
      "source": [
        "## 5. A/B Experiments Status"
      ]
    },
    {
      "cell_type": "code",
      "execution_count": null,
      "metadata": {},
      "outputs": [],
      "source": [
        "# A/B Experiments\n",
        "experiments = kpis.get('experiments', [])\n",
        "\n",
        "print(\"\\n🧪 A/B Experiments (Week 1):\")\n",
        "for exp in experiments:\n",
        "    print(f\"\\n  {exp['name']} ({exp['id']})\")\n",
        "    print(f\"    Status: {exp['status']}\")\n",
        "    print(f\"    Duration: {exp['start_date']} → {exp['end_date']}\")\n",
        "    print(f\"    Primary Metric: {exp['primary_metric']}\")\n",
        "    print(f\"    Preliminary Result: {exp.get('preliminary_result', 'Too early to call')}\")"
      ]
    },
    {
      "cell_type": "markdown",
      "metadata": {},
      "source": [
        "## 6. Recommendations\n",
        "\n",
        "### Immediate Actions (within 48h)\n",
        "1. **If Crash-Free < 98.5%**: Triage symbolized crashes, prioritize top 5 crash sources\n",
        "2. **If Inflation > 1.08**: Apply economy hotfix (reduce drop rates by 5-10%)\n",
        "3. **If Puzzle Completion < 65%**: Reduce difficulty or add hints system\n",
        "\n",
        "### Week 2 Planning\n",
        "1. **Boss Launch Prep**: Echo Sentinel Phase 1 (Jan 25, 20:00 TRT)\n",
        "2. **A/B Interim Analysis**: Day 7 interim for `abx-storm-reward`\n",
        "3. **PhotoMode Campaign**: Monitor submissions, moderate within 24h SLA\n",
        "\n",
        "### Economy Micro-Balancing\n",
        "- **If earn/spend > 1.10**: Increase vendor prices by 5%, reduce boss rewards by 10%\n",
        "- **If earn/spend < 0.90**: Decrease vendor prices by 5%, increase puzzle rewards by 10%\n"
      ]
    },
    {
      "cell_type": "markdown",
      "metadata": {},
      "source": [
        "---\n",
        "\n",
        "## Compliance & White-Hat\n",
        "\n",
        "✅ **KVKK/GDPR/PDPL**: All user_ids anonymized, no PII in analytics  \n",
        "✅ **Data Retention**: 90-day retention for analytics data  \n",
        "✅ **Transparent**: Methodology documented in S2-W1-PLAYBOOK.md  \n",
        "✅ **White-Hat**: Official APIs only, no scraping\n",
        "\n",
        "**Report Generated**: {datetime.now().strftime('%Y-%m-%d %H:%M:%S')} UTC  \n",
        "**Version**: 1.0.0\n"
      ]
    }
  ],
  "metadata": {
    "kernelspec": {
      "display_name": "Python 3",
      "language": "python",
      "name": "python3"
    },
    "language_info": {
      "codemirror_mode": {
        "name": "ipython",
        "version": 3
      },
      "file_extension": ".py",
      "mimetype": "text/x-python",
      "name": "python",
      "nbconvert_exporter": "python",
      "pygments_lexer": "ipython3",
      "version": "3.11.0"
    }
  },
  "nbformat": 4,
  "nbformat_minor": 4
}
